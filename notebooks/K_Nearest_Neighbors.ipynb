{
  "nbformat": 4,
  "nbformat_minor": 0,
  "metadata": {
    "colab": {
      "provenance": []
    },
    "kernelspec": {
      "name": "python3",
      "display_name": "Python 3"
    },
    "language_info": {
      "name": "python"
    }
  },
  "cells": [
    {
      "cell_type": "markdown",
      "source": [
        "\n",
        "\n",
        "**Implement the K-Nearest Neighbors Algorithms in Python using Numpy and Pandas and Matplotlib.**\n"
      ],
      "metadata": {
        "id": "guZ6jghXLp3H"
      }
    },
    {
      "cell_type": "markdown",
      "source": [
        "Here 3 funtions are Used:\n",
        "\n",
        "\n",
        "1.   euclidean_distance(x1, x2)\n",
        "2.   k_nearest_neighbors(x_train, y_train, x_test, k)\n",
        "3.   predict_knn(x_train, y_train, x_test, k)\n",
        "4.   plot_decision_boundary(x_train, y_train, k)\n"
      ],
      "metadata": {
        "id": "ux0gXbbgMtqa"
      }
    },
    {
      "cell_type": "code",
      "execution_count": 3,
      "metadata": {
        "id": "mUF7u5Dn321U"
      },
      "outputs": [],
      "source": [
        "import numpy as np\n",
        "import matplotlib.pyplot as plt\n",
        "import pandas as pd"
      ]
    },
    {
      "cell_type": "code",
      "source": [
        "data = pd.read_csv('..\data\train.csv')\n",
        "data.info()"
      ],
      "metadata": {
        "colab": {
          "base_uri": "https://localhost:8080/"
        },
        "id": "WUV0tHxx4BNg",
        "outputId": "9c5f651b-f010-4512-b2e2-7229a28866b8"
      },
      "execution_count": 5,
      "outputs": [
        {
          "output_type": "stream",
          "name": "stdout",
          "text": [
            "<class 'pandas.core.frame.DataFrame'>\n",
            "RangeIndex: 891 entries, 0 to 890\n",
            "Data columns (total 12 columns):\n",
            " #   Column       Non-Null Count  Dtype  \n",
            "---  ------       --------------  -----  \n",
            " 0   PassengerId  891 non-null    int64  \n",
            " 1   Survived     891 non-null    int64  \n",
            " 2   Pclass       891 non-null    int64  \n",
            " 3   Name         891 non-null    object \n",
            " 4   Sex          891 non-null    object \n",
            " 5   Age          714 non-null    float64\n",
            " 6   SibSp        891 non-null    int64  \n",
            " 7   Parch        891 non-null    int64  \n",
            " 8   Ticket       891 non-null    object \n",
            " 9   Fare         891 non-null    float64\n",
            " 10  Cabin        204 non-null    object \n",
            " 11  Embarked     889 non-null    object \n",
            "dtypes: float64(2), int64(5), object(5)\n",
            "memory usage: 83.7+ KB\n"
          ]
        }
      ]
    },
    {
      "cell_type": "code",
      "source": [
        "data[\"Survived\"].hist()"
      ],
      "metadata": {
        "colab": {
          "base_uri": "https://localhost:8080/",
          "height": 447
        },
        "id": "DbIl9PIi43_w",
        "outputId": "00c88d8c-3b4d-45a9-fcdf-28acd3d53555"
      },
      "execution_count": 6,
      "outputs": [
        {
          "output_type": "execute_result",
          "data": {
            "text/plain": [
              "<Axes: >"
            ]
          },
          "metadata": {},
          "execution_count": 6
        },
        {
          "output_type": "display_data",
          "data": {
            "text/plain": [
              "<Figure size 640x480 with 1 Axes>"
            ],
            "image/png": "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\n"
          },
          "metadata": {}
        }
      ]
    },
    {
      "cell_type": "markdown",
      "source": [
        "here age is removed as it has empty Array"
      ],
      "metadata": {
        "id": "hEIDUEvqNq9J"
      }
    },
    {
      "cell_type": "code",
      "source": [
        "def euclidean_distance(x1, x2):\n",
        "    return np.sqrt(np.sum((x1 - x2) ** 2))"
      ],
      "metadata": {
        "id": "S5-mXH__C4Mh"
      },
      "execution_count": 7,
      "outputs": []
    },
    {
      "cell_type": "code",
      "source": [
        "def k_nearest_neighbors(x_train, y_train, x_test, k):\n",
        "    distances = []\n",
        "    for i in range(len(x_train)):\n",
        "        distance = euclidean_distance(x_train[i], x_test)\n",
        "        distances.append((distance, y_train[i]))\n",
        "    distances.sort(key=lambda x: x[0])\n",
        "    neighbors = distances[:k]\n",
        "    counts = np.bincount([neighbor[1] for neighbor in neighbors])\n",
        "    return np.argmax(counts)"
      ],
      "metadata": {
        "id": "cMo_hz6PDR0N"
      },
      "execution_count": 8,
      "outputs": []
    },
    {
      "cell_type": "code",
      "source": [
        "def predict_knn(x_train, y_train, x_test, k):\n",
        "    predictions = []\n",
        "    for x in x_test:\n",
        "        label = k_nearest_neighbors(x_train, y_train, x, k)\n",
        "        predictions.append(label)\n",
        "    return np.array(predictions)"
      ],
      "metadata": {
        "id": "UGNuV2CSDaQe"
      },
      "execution_count": 9,
      "outputs": []
    },
    {
      "cell_type": "code",
      "source": [
        "def plot_decision_boundary(x_train, y_train, k):\n",
        "    x_min, x_max = x_train[:, 0].min() - 1, x_train[:, 0].max() + 1\n",
        "    y_min, y_max = x_train[:, 1].min() - 1, x_train[:, 1].max() + 1\n",
        "    xx, yy = np.meshgrid(np.arange(x_min, x_max, 0.1), np.arange(y_min, y_max, 0.1))\n",
        "    grid_points = np.c_[xx.ravel(), yy.ravel()]\n",
        "\n",
        "    predictions = predict_knn(x_train, y_train, grid_points, k)\n",
        "    predictions = predictions.reshape(xx.shape)\n",
        "\n",
        "    plt.contourf(xx, yy, predictions, alpha=0.4, cmap=plt.cm.RdYlBu)\n",
        "    plt.scatter(x_train[:, 0], x_train[:, 1], c=y_train, cmap=plt.cm.RdYlBu, edgecolor='k')\n",
        "    plt.xlabel('Feature 1')\n",
        "    plt.ylabel('Feature 2')\n",
        "    plt.title('Decision Boundary')\n",
        "    plt.show()"
      ],
      "metadata": {
        "id": "hgqSft2ZDibr"
      },
      "execution_count": 10,
      "outputs": []
    },
    {
      "cell_type": "code",
      "source": [
        "data = data[['Pclass', 'Sex', 'Age', 'SibSp', 'Parch', 'Fare', 'Survived']]\n",
        "data['Sex'] = data['Sex'].map({'female': 0, 'male': 1})\n",
        "data = data.dropna()\n",
        "\n",
        "x_train = data[['Pclass', 'Sex']].values\n",
        "y_train = data['Survived'].values\n",
        "\n",
        "k = 5"
      ],
      "metadata": {
        "id": "Oqsw9ciQEd-T",
        "colab": {
          "base_uri": "https://localhost:8080/"
        },
        "outputId": "8cc9bb15-98bf-47dd-e97f-bff1e2937f29"
      },
      "execution_count": 11,
      "outputs": [
        {
          "output_type": "stream",
          "name": "stderr",
          "text": [
            "<ipython-input-11-3cf33ee0b214>:2: SettingWithCopyWarning: \n",
            "A value is trying to be set on a copy of a slice from a DataFrame.\n",
            "Try using .loc[row_indexer,col_indexer] = value instead\n",
            "\n",
            "See the caveats in the documentation: https://pandas.pydata.org/pandas-docs/stable/user_guide/indexing.html#returning-a-view-versus-a-copy\n",
            "  data['Sex'] = data['Sex'].map({'female': 0, 'male': 1})\n"
          ]
        }
      ]
    },
    {
      "cell_type": "code",
      "source": [
        "np.random.seed(800)\n",
        "x_min, x_max = x_train[:, 0].min() - 1, x_train[:, 0].max() + 1\n",
        "y_min, y_max = x_train[:, 1].min() - 1, x_train[:, 1].max() + 1\n",
        "xx, yy = np.meshgrid(np.arange(x_min, x_max, 0.1), np.arange(y_min, y_max, 0.1))\n",
        "grid_points = np.c_[xx.ravel(), yy.ravel()]"
      ],
      "metadata": {
        "id": "rkN1RreBEo-x"
      },
      "execution_count": 12,
      "outputs": []
    },
    {
      "cell_type": "code",
      "source": [
        "plot_decision_boundary(x_train, y_train, k)"
      ],
      "metadata": {
        "colab": {
          "base_uri": "https://localhost:8080/",
          "height": 472
        },
        "id": "qCUgWZTLEx7i",
        "outputId": "5a462246-497f-4aac-8dbd-7e76ebe984d7"
      },
      "execution_count": 13,
      "outputs": [
        {
          "output_type": "display_data",
          "data": {
            "text/plain": [
              "<Figure size 640x480 with 1 Axes>"
            ],
            "image/png": "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\n"
          },
          "metadata": {}
        }
      ]
    }
  ]
}
