{
  "cells": [
    {
      "attachments": {},
      "cell_type": "markdown",
      "metadata": {
        "id": "guZ6jghXLp3H"
      },
      "source": [
        "\n",
        "\n",
        "**Implement the Naive Bayes Algorithms in Python using Numpy and Pandas and Matplotlib.**\n"
      ]
    },
    {
      "attachments": {},
      "cell_type": "markdown",
      "metadata": {
        "id": "ux0gXbbgMtqa"
      },
      "source": [
        "Here 3 funtions are Used:\n",
        "\n",
        "\n",
        "1.   fit_naive_bayes(x_train, y_train).\n",
        "2.   plot_decision_boundary(x_train, y_train, class_probabilities, feature_probabilities).\n",
        "3.   plot_decision_boundary(x_train, y_train, class_probabilities, feature_probabilities).\n",
        "\n"
      ]
    },
    {
      "cell_type": "code",
      "execution_count": 40,
      "metadata": {
        "id": "mUF7u5Dn321U"
      },
      "outputs": [],
      "source": [
        "import numpy as np\n",
        "import matplotlib.pyplot as plt\n",
        "import pandas as pd"
      ]
    },
    {
      "cell_type": "code",
      "execution_count": 41,
      "metadata": {
        "colab": {
          "base_uri": "https://localhost:8080/"
        },
        "id": "WUV0tHxx4BNg",
        "outputId": "581029d2-8a19-4c95-f446-b86b3b480059"
      },
      "outputs": [
        {
          "name": "stdout",
          "output_type": "stream",
          "text": [
            "<class 'pandas.core.frame.DataFrame'>\n",
            "RangeIndex: 891 entries, 0 to 890\n",
            "Data columns (total 12 columns):\n",
            " #   Column       Non-Null Count  Dtype  \n",
            "---  ------       --------------  -----  \n",
            " 0   PassengerId  891 non-null    int64  \n",
            " 1   Survived     891 non-null    int64  \n",
            " 2   Pclass       891 non-null    int64  \n",
            " 3   Name         891 non-null    object \n",
            " 4   Sex          891 non-null    object \n",
            " 5   Age          714 non-null    float64\n",
            " 6   SibSp        891 non-null    int64  \n",
            " 7   Parch        891 non-null    int64  \n",
            " 8   Ticket       891 non-null    object \n",
            " 9   Fare         891 non-null    float64\n",
            " 10  Cabin        204 non-null    object \n",
            " 11  Embarked     889 non-null    object \n",
            "dtypes: float64(2), int64(5), object(5)\n",
            "memory usage: 83.7+ KB\n"
          ]
        }
      ],
      "source": [
        "data = pd.read_csv('../data/train.csv')\n",
        "data.info()"
      ]
    },
    {
      "cell_type": "code",
      "execution_count": 42,
      "metadata": {
        "colab": {
          "base_uri": "https://localhost:8080/",
          "height": 447
        },
        "id": "DbIl9PIi43_w",
        "outputId": "b41c9f74-02e7-44d3-b345-4642b1442a1e"
      },
      "outputs": [
        {
          "data": {
            "text/plain": [
              "<Axes: >"
            ]
          },
          "execution_count": 42,
          "metadata": {},
          "output_type": "execute_result"
        },
        {
          "data": {
            "image/png": "[encoded data removed]",
            "text/plain": [
              "<Figure size 640x480 with 1 Axes>"
            ]
          },
          "metadata": {},
          "output_type": "display_data"
        }
      ],
      "source": [
        "data[\"Survived\"].hist()"
      ]
    },
    {
      "attachments": {},
      "cell_type": "markdown",
      "metadata": {
        "id": "hEIDUEvqNq9J"
      },
      "source": [
        "here age is removed as it has empty Array"
      ]
    },
    {
      "cell_type": "code",
      "execution_count": 43,
      "metadata": {
        "colab": {
          "base_uri": "https://localhost:8080/"
        },
        "id": "CbnmOnpgB1Qv",
        "outputId": "2930f2ba-70d2-4855-9ad3-2efab93e0f71"
      },
      "outputs": [
        {
          "name": "stderr",
          "output_type": "stream",
          "text": [
            "<ipython-input-43-4451b0127ffb>:2: SettingWithCopyWarning: \n",
            "A value is trying to be set on a copy of a slice from a DataFrame.\n",
            "Try using .loc[row_indexer,col_indexer] = value instead\n",
            "\n",
            "See the caveats in the documentation: https://pandas.pydata.org/pandas-docs/stable/user_guide/indexing.html#returning-a-view-versus-a-copy\n",
            "  data['Sex'] = data['Sex'].map({'female': 0, 'male': 1})\n"
          ]
        }
      ],
      "source": [
        "data = data[['Pclass', 'Sex', 'SibSp', 'Parch', 'Fare', 'Survived']]\n",
        "data['Sex'] = data['Sex'].map({'female': 0, 'male': 1})\n",
        "data = data.dropna()"
      ]
    },
    {
      "cell_type": "code",
      "execution_count": 44,
      "metadata": {
        "id": "S5-mXH__C4Mh"
      },
      "outputs": [],
      "source": [
        "x_train = data[['Pclass', 'Sex']].values\n",
        "y_train = data['Survived'].values"
      ]
    },
    {
      "cell_type": "code",
      "execution_count": 45,
      "metadata": {
        "id": "cMo_hz6PDR0N"
      },
      "outputs": [],
      "source": [
        "def fit_naive_bayes(x_train, y_train):\n",
        "    num_samples, num_features = x_train.shape\n",
        "    num_classes = len(np.unique(y_train))\n",
        "    \n",
        "    # Calculate class probabilities\n",
        "    class_probabilities = np.zeros(num_classes)\n",
        "    for i in range(num_classes):\n",
        "        class_probabilities[i] = np.sum(y_train == i) / num_samples\n",
        "    \n",
        "    # Calculate feature probabilities for each class\n",
        "    feature_probabilities = np.zeros((num_classes, num_features))\n",
        "    for i in range(num_classes):\n",
        "        class_samples = x_train[y_train == i]\n",
        "        for j in range(num_features):\n",
        "            feature_values = np.unique(class_samples[:, j])\n",
        "            for value in feature_values:\n",
        "                numerator = np.sum(class_samples[:, j] == value)\n",
        "                denominator = len(class_samples)\n",
        "                feature_probabilities[i, j] += numerator / denominator\n",
        "    \n",
        "    return class_probabilities, feature_probabilities"
      ]
    },
    {
      "cell_type": "code",
      "execution_count": 46,
      "metadata": {
        "id": "UGNuV2CSDaQe"
      },
      "outputs": [],
      "source": [
        "def predict_naive_bayes(x_test, class_probabilities, feature_probabilities):\n",
        "    num_samples, num_features = x_test.shape\n",
        "    num_classes = class_probabilities.shape[0]\n",
        "    predictions = np.zeros(num_samples, dtype=int)\n",
        "    \n",
        "    for i in range(num_samples):\n",
        "        sample = x_test[i]\n",
        "        class_scores = np.zeros(num_classes)\n",
        "        \n",
        "        for j in range(num_classes):\n",
        "            feature_scores = np.zeros(num_features)\n",
        "            \n",
        "            for k in range(num_features):\n",
        "                feature_value = sample[k]\n",
        "                numerator = np.sum((x_train[:, k] == feature_value) & (y_train == j))\n",
        "                denominator = np.sum(y_train == j)\n",
        "                feature_scores[k] = numerator / denominator\n",
        "            \n",
        "            class_scores[j] = np.prod(feature_scores)\n",
        "        \n",
        "        predicted_class = np.argmax(class_scores)\n",
        "        predictions[i] = predicted_class\n",
        "    \n",
        "    return predictions"
      ]
    },
    {
      "cell_type": "code",
      "execution_count": 47,
      "metadata": {
        "id": "hgqSft2ZDibr"
      },
      "outputs": [],
      "source": [
        "def plot_decision_boundary(x_train, y_train, class_probabilities, feature_probabilities):\n",
        "    x_min, x_max = x_train[:, 0].min() - 1, x_train[:, 0].max() + 1\n",
        "    y_min, y_max = x_train[:, 1].min() - 1, x_train[:, 1].max() + 1\n",
        "    xx, yy = np.meshgrid(np.arange(x_min, x_max, 0.1), np.arange(y_min, y_max, 0.1))\n",
        "    grid_points = np.c_[xx.ravel(), yy.ravel()]\n",
        "    \n",
        "    predictions = predict_naive_bayes(grid_points, class_probabilities, feature_probabilities)\n",
        "    predictions = predictions.reshape(xx.shape)\n",
        "    \n",
        "    plt.contourf(xx, yy, predictions, alpha=0.4, cmap=plt.cm.RdYlBu)\n",
        "    plt.scatter(x_train[:, 0], x_train[:, 1], c=y_train, cmap=plt.cm.RdYlBu, edgecolor='k')\n",
        "    plt.xlabel('Feature 1')\n",
        "    plt.ylabel('Feature 2')\n",
        "    plt.title('Decision Boundary')\n",
        "    plt.show()"
      ]
    },
    {
      "cell_type": "code",
      "execution_count": 48,
      "metadata": {
        "id": "Oqsw9ciQEd-T"
      },
      "outputs": [],
      "source": [
        "class_probabilities, feature_probabilities = fit_naive_bayes(x_train, y_train)"
      ]
    },
    {
      "cell_type": "code",
      "execution_count": 49,
      "metadata": {
        "id": "rkN1RreBEo-x"
      },
      "outputs": [],
      "source": [
        "np.random.seed(800)\n",
        "\n",
        "x_min, x_max = x_train[:, 0].min() - 1, x_train[:, 0].max() + 1\n",
        "y_min, y_max = x_train[:, 1].min() - 1, x_train[:, 1].max() + 1\n",
        "xx, yy = np.meshgrid(np.arange(x_min, x_max, 0.1), np.arange(y_min, y_max, 0.1))\n",
        "grid_points = np.c_[xx.ravel(), yy.ravel()]"
      ]
    },
    {
      "cell_type": "code",
      "execution_count": 50,
      "metadata": {
        "colab": {
          "base_uri": "https://localhost:8080/",
          "height": 472
        },
        "id": "qCUgWZTLEx7i",
        "outputId": "9767ddac-996b-4d89-bb41-96e7dbbd353f"
      },
      "outputs": [
        {
          "data": {
            "image/png": "[encoded data removed]",
            "text/plain": [
              "<Figure size 640x480 with 1 Axes>"
            ]
          },
          "metadata": {},
          "output_type": "display_data"
        }
      ],
      "source": [
        "plot_decision_boundary(x_train, y_train, class_probabilities, feature_probabilities)"
      ]
    }
  ],
  "metadata": {
    "colab": {
      "provenance": []
    },
    "kernelspec": {
      "display_name": "Python 3",
      "name": "python3"
    },
    "language_info": {
      "name": "python"
    }
  },
  "nbformat": 4,
  "nbformat_minor": 0
}
